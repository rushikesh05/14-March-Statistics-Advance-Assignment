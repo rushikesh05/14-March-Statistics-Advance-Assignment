{
  "nbformat": 4,
  "nbformat_minor": 0,
  "metadata": {
    "colab": {
      "provenance": []
    },
    "kernelspec": {
      "name": "python3",
      "display_name": "Python 3"
    },
    "language_info": {
      "name": "python"
    }
  },
  "cells": [
    {
      "cell_type": "markdown",
      "source": [
        "##Q1. Write a Python function that takes in two arrays of data and calculates the F-value for a variance ratio test. The function should return the F-value and the corresponding p-value for the test.\n",
        "\n"
      ],
      "metadata": {
        "id": "FAZxpBXM1Hs9"
      }
    },
    {
      "cell_type": "code",
      "execution_count": null,
      "metadata": {
        "id": "402J1U0Y1GUt"
      },
      "outputs": [],
      "source": [
        "import numpy as np\n",
        "from scipy.stats import f\n",
        "\n",
        "def variance_ratio_test(x, y):\n",
        "    \"\"\"\n",
        "    Perform variance ratio test on two arrays of data.\n",
        "    \"\"\"\n",
        "    # Compute the variances of the two arrays\n",
        "    var_x = np.var(x)\n",
        "    var_y = np.var(y)\n",
        "\n",
        "    # Compute the F-value for the variance ratio test\n",
        "    F = var_x / var_y\n",
        "\n",
        "    # Compute the degrees of freedom\n",
        "    df_x = len(x) - 1\n",
        "    df_y = len(y) - 1\n",
        "\n",
        "    # Compute the p-value for the F-test\n",
        "    p_value = f.cdf(F, df_x, df_y)\n",
        "\n",
        "    return F, p_value\n"
      ]
    },
    {
      "cell_type": "code",
      "source": [
        "x = [1, 2, 3, 4, 5]\n",
        "y = [2, 4, 6, 8, 10]\n",
        "\n",
        "F, p_value = variance_ratio_test(x, y)\n",
        "\n",
        "print(\"F-value:\", F)\n",
        "print(\"p-value:\", p_value)\n"
      ],
      "metadata": {
        "colab": {
          "base_uri": "https://localhost:8080/"
        },
        "id": "c2b_97sc1nB5",
        "outputId": "0d17c32b-9f1c-417d-ec8b-ac7706c46a1e"
      },
      "execution_count": null,
      "outputs": [
        {
          "output_type": "stream",
          "name": "stdout",
          "text": [
            "F-value: 0.25\n",
            "p-value: 0.10400000000000002\n"
          ]
        }
      ]
    },
    {
      "cell_type": "markdown",
      "source": [
        "##Q2. Given a significance level of 0.05 and the degrees of freedom for the numerator and denominator of an F-distribution, write a Python function that returns the critical F-value for a two-tailed test.\n",
        "\n"
      ],
      "metadata": {
        "id": "uGbjC8BT2f_A"
      }
    },
    {
      "cell_type": "code",
      "source": [
        "from scipy.stats import f\n",
        "\n",
        "def critical_f_value(dfn, dfd, alpha=0.05):\n",
        "    \"\"\"\n",
        "    Calculate the critical F-value for a two-tailed test.\n",
        "    \"\"\"\n",
        "    # Calculate the F-value for the given significance level\n",
        "    f_value = f.ppf(1 - alpha / 2, dfn, dfd)\n",
        "\n",
        "    return f_value\n"
      ],
      "metadata": {
        "id": "r6NB6m3c2W_8"
      },
      "execution_count": null,
      "outputs": []
    },
    {
      "cell_type": "code",
      "source": [
        "dfn = 3\n",
        "dfd = 20\n",
        "alpha = 0.05\n",
        "\n",
        "critical_f = critical_f_value(dfn, dfd, alpha)\n",
        "\n",
        "print(\"Critical F-value:\", critical_f)\n"
      ],
      "metadata": {
        "colab": {
          "base_uri": "https://localhost:8080/"
        },
        "id": "MNRn7Oc62xhh",
        "outputId": "166d0bda-ab54-432b-ac11-bbbea1b051c5"
      },
      "execution_count": null,
      "outputs": [
        {
          "output_type": "stream",
          "name": "stdout",
          "text": [
            "Critical F-value: 3.8586986662732143\n"
          ]
        }
      ]
    },
    {
      "cell_type": "markdown",
      "source": [
        "###So for a two-tailed test with a significance level of 0.05 and degrees of freedom of 3 and 20, the critical F-value is approximately 3.8586."
      ],
      "metadata": {
        "id": "qoEAU1cx3Gyw"
      }
    },
    {
      "cell_type": "markdown",
      "source": [
        "##Q3. Write a Python program that generates random samples from two normal distributions with known variances and uses an F-test to determine if the variances are equal. The program should output the F- value, degrees of freedom, and p-value for the test."
      ],
      "metadata": {
        "id": "5byz5oxL3wn8"
      }
    },
    {
      "cell_type": "code",
      "source": [
        "import numpy as np\n",
        "from scipy.stats import f\n",
        "\n",
        "# Set the random seed for reproducibility\n",
        "np.random.seed(123)\n",
        "\n",
        "# Generate two samples from normal distributions with known variances\n",
        "n1 = 50\n",
        "n2 = 75\n",
        "mean1 = 10\n",
        "mean2 = 12\n",
        "var1 = 4\n",
        "var2 = 6\n",
        "\n",
        "sample1 = np.random.normal(loc=mean1, scale=np.sqrt(var1), size=n1)\n",
        "sample2 = np.random.normal(loc=mean2, scale=np.sqrt(var2), size=n2)\n",
        "\n",
        "# Compute the F-value and p-value for the F-test\n",
        "F = np.var(sample1, ddof=1) / np.var(sample2, ddof=1)\n",
        "dfn = n1 - 1\n",
        "dfd = n2 - 1\n",
        "p_value = f.sf(F, dfn, dfd)\n",
        "\n",
        "# Print the results\n",
        "print(\"F-value:\", F)\n",
        "print(\"Degrees of freedom numerator:\", dfn)\n",
        "print(\"Degrees of freedom denominator:\", dfd)\n",
        "print(\"p-value:\", p_value)\n"
      ],
      "metadata": {
        "colab": {
          "base_uri": "https://localhost:8080/"
        },
        "id": "0cTeeDBC3AtT",
        "outputId": "070861f7-0a9b-49cc-a843-d40aa9b3f7ab"
      },
      "execution_count": null,
      "outputs": [
        {
          "output_type": "stream",
          "name": "stdout",
          "text": [
            "F-value: 0.7792593732703956\n",
            "Degrees of freedom numerator: 49\n",
            "Degrees of freedom denominator: 74\n",
            "p-value: 0.8229821876353054\n"
          ]
        }
      ]
    },
    {
      "cell_type": "markdown",
      "source": [
        "###This suggests that there is no significant difference in variances between the two samples, since the p-value is greater than the significance level of 0.05."
      ],
      "metadata": {
        "id": "nbv6FM6C4X87"
      }
    },
    {
      "cell_type": "markdown",
      "source": [
        "##Q4.The variances of two populations are known to be 10 and 15. A sample of 12 observations is taken from each population. Conduct an F-test at the 5% significance level to determine if the variances are significantly different.\n",
        "\n",
        "#Ans:----\n",
        "\n",
        "###Define the null hypothesis and alternative hypothesis:\n",
        "\n",
        "* Null hypothesis (H0): The variances of the two populations are equal.\n",
        "* Alternative hypothesis (HA): The variances of the two populations are significantly different.\n",
        "###Determine the significance level (α) and degrees of freedom for the numerator and denominator of the F-distribution:\n",
        "\n",
        "      Significance level (α) = 0.05\n",
        "      Degrees of freedom numerator (dfn)=sample       \n",
        "      size of population 1 - 1 = 12 - 1 = 11\n",
        "      Degrees of freedom denominator (dfd) = sample       \n",
        "      size of population 2 - 1 = 12 - 1 = 11\n",
        "###Calculate the F-statistic using the formula:\n",
        "\n",
        "      F = s1^2 / s2^2\n",
        "\n",
        "###where \n",
        "      s1^2 and s2^2 are the sample variances for population 1 and population 2, respectively.\n",
        "###Using the given information, we can conduct an F-test as follows:\n",
        "\n",
        "      H0: σ1^2 = σ2^2\n",
        "      HA: σ1^2 ≠ σ2^2\n",
        "\n",
        "      α = 0.05, dfn = 11, dfd = 11\n",
        "\n",
        "###Calculate the F-statistic:\n",
        "\n",
        "      F = s1^2 / s2^2\n",
        "\n",
        "\n",
        "\n",
        "###Since the variances are known to be 10 and 15 for population 1 and population 2, respectively, we can use these values as the sample variances:\n",
        "\n",
        "      F = 10 / 15\n",
        "      = 0.67\n",
        "\n",
        "###Find the p-value for the F-statistic using the cumulative distribution function (cdf) of the F-distribution with degrees of freedom dfn and dfd:\n",
        "\n",
        "      p-value = 2 * min(f.cdf(F, dfn, dfd), 1 - f.cdf(F, dfn, dfd))\n",
        "\n",
        "###Here we multiply the cdf by 2 because it is a two-tailed test.\n",
        "\n",
        "      p-value = 2 * min(f.cdf(0.67, 11, 11), 1 - f.cdf(0.67, 11, 11))\n",
        "      = 2 * min(0.255, 0.282)\n",
        "      = 0.51\n",
        "\n",
        "###Compare the p-value with the significance level α. \n",
        "\n",
        "###Since the p-value (0.51) is greater than α (0.05), fail to reject the null hypothesis and conclude that there is not enough evidence to suggest that the variances of the two populations are different.\n",
        "\n",
        "###Therefore, we can conclude that at the 5% significance level, there is no significant difference in the variances of the two populations."
      ],
      "metadata": {
        "id": "OBBV6XEY4nD8"
      }
    },
    {
      "cell_type": "markdown",
      "source": [
        "##Q5. A manufacturer claims that the variance of the diameter of a certain product is 0.005. A sample of 25 products is taken, and the sample variance is found to be 0.006. Conduct an F-test at the 1% significance level to determine if the claim is justified.\n",
        "\n",
        "###The hypothesis test we will conduct is:\n",
        "\n",
        "* Null hypothesis: The variance of the diameter of the product is 0.005.\n",
        "* Alternative hypothesis: The variance of the diameter of the product is greater than 0.005.\n",
        "We will use the F-test to compare the sample variance with the claimed population variance:\n",
        "\n",
        "       F = sample variance / population variance\n",
        "\n",
        "###Under the null hypothesis, the F statistic follows an F distribution with degrees of freedom (n-1) for the numerator and (m-1) for the denominator, where n is the sample size and m is the assumed population size.\n",
        "\n",
        "###In this case, we have:\n",
        "\n",
        "    n = 25 (sample size)\n",
        "    m = infinity (population size is not specified)\n",
        "    sample variance = 0.006\n",
        "    claimed population variance = 0.005\n",
        "###Therefore, the F statistic is:\n",
        "\n",
        "    F = 0.006 / 0.005 = 1.2\n",
        "\n",
        "    The critical value of F at the 1% level of significance with (24, infinity) degrees of freedom is 2.75. \n",
        "    Since the calculated F value of 1.2 is less than the critical value of 2.75, we fail to reject the null hypothesis.\n",
        "\n",
        "###Therefore, we do not have sufficient evidence to conclude that the population variance is greater than 0.005. The manufacturer's claim is justified at the 1% level of significance."
      ],
      "metadata": {
        "id": "g6iz57TyrVIn"
      }
    },
    {
      "cell_type": "markdown",
      "source": [
        "##Q6. Write a Python function that takes in the degrees of freedom for the numerator and denominator of an F-distribution and calculates the mean and variance of the distribution. The function should return the mean and variance as a tuple.\n",
        "\n",
        "\n",
        "\n"
      ],
      "metadata": {
        "id": "XKNbZHLKr6Ju"
      }
    },
    {
      "cell_type": "code",
      "source": [
        "import scipy.stats as stats\n",
        "\n",
        "def f_distribution_mean_variance(df_numerator, df_denominator):\n",
        "    \"\"\"\n",
        "    Calculates the mean and variance of an F-distribution.\n",
        "\n",
        "    Parameters:\n",
        "    df_numerator (int): Degrees of freedom for the numerator.\n",
        "    df_denominator (int): Degrees of freedom for the denominator.\n",
        "\n",
        "    Returns:\n",
        "    tuple: Mean and variance of the F-distribution.\n",
        "    \"\"\"\n",
        "    mean = df_denominator / (df_denominator - 2)\n",
        "    variance = (2 * (df_denominator**2) * (df_numerator + df_denominator - 2)) / ((df_numerator * (df_denominator - 2)**2 * (df_denominator - 4)))\n",
        "    return (mean, variance)\n"
      ],
      "metadata": {
        "id": "STv7UECO4Fmb"
      },
      "execution_count": 1,
      "outputs": []
    },
    {
      "cell_type": "code",
      "source": [
        "f_distribution_mean_variance(5, 10)"
      ],
      "metadata": {
        "colab": {
          "base_uri": "https://localhost:8080/"
        },
        "id": "4P46kJtJsXm9",
        "outputId": "7895cdff-62cf-44e1-db6e-9a0723343fb1"
      },
      "execution_count": 2,
      "outputs": [
        {
          "output_type": "execute_result",
          "data": {
            "text/plain": [
              "(1.25, 1.3541666666666667)"
            ]
          },
          "metadata": {},
          "execution_count": 2
        }
      ]
    },
    {
      "cell_type": "markdown",
      "source": [
        "###the function returns the mean and variance of an F-distribution with 5 degrees of freedom for the numerator and 10 degrees of freedom for the denominator."
      ],
      "metadata": {
        "id": "gwDo7iBPsl3a"
      }
    },
    {
      "cell_type": "markdown",
      "source": [
        "##Q7. A random sample of 10 measurements is taken from a normal population with unknown variance. The sample variance is found to be 25. Another random sample of 15 measurements is taken from another normal population with unknown variance, and the sample variance is found to be 20. Conduct an F-test at the 10% significance level to determine if the variances are significantly different.\n",
        "\n",
        "\n",
        "###The hypothesis test we will conduct is:\n",
        "\n",
        "* Null hypothesis: The variances of the two populations are equal.\n",
        "* Alternative hypothesis: The variances of the two populations are not equal.\n",
        "We will use the F-test to compare the two sample variances:\n",
        "\n",
        "       F = sample variance 1 / sample variance 2\n",
        "\n",
        "###Under the null hypothesis, the F statistic follows an F distribution with degrees of freedom (n1-1) and (n2-1), where n1 and n2 are the sample sizes.\n",
        "\n",
        "### In this case, we have:\n",
        "\n",
        "     n1 = 10 (sample size of the first population)\n",
        "     n2 = 15 (sample size of the second population)\n",
        "     sample variance 1 = 25\n",
        "     sample variance 2 = 20\n",
        "###Therefore, the F statistic is:\n",
        "\n",
        "     F = 25 / 20 = 1.25\n",
        "\n",
        "###The critical values of F at the 10% level of significance with (9, 14) degrees of freedom are 0.362 and 2.691.\n",
        "\n",
        "###Since the calculated F value of 1.25 is between the critical values of 0.362 and 2.691, we fail to reject the null hypothesis.\n",
        "\n",
        "###Therefore, we do not have sufficient evidence to conclude that the variances of the two populations are significantly different at the 10% level of significance.\n",
        "\n",
        "###Here's the Python code to perform the F-test:"
      ],
      "metadata": {
        "id": "eca_VdwMudXa"
      }
    },
    {
      "cell_type": "code",
      "source": [
        "import scipy.stats as stats\n",
        "\n",
        "# Define the sample variances and sample sizes\n",
        "s1 = 25\n",
        "s2 = 20\n",
        "n1 = 10\n",
        "n2 = 15\n",
        "\n",
        "# Calculate the F statistic\n",
        "F = s1 / s2\n",
        "\n",
        "# Calculate the p-value\n",
        "p_value = stats.f.cdf(F, n1-1, n2-1)\n",
        "\n",
        "# Calculate the critical values of F\n",
        "alpha = 0.1\n",
        "f_critical_lower = stats.f.ppf(alpha/2, n1-1, n2-1)\n",
        "f_critical_upper = stats.f.ppf(1-alpha/2, n1-1, n2-1)\n",
        "\n",
        "# Print the results\n",
        "print(\"F statistic:\", F)\n",
        "print(\"p-value:\", p_value)\n",
        "print(\"Critical values of F:\", f_critical_lower, f_critical_upper)\n",
        "\n",
        "if F < f_critical_lower or F > f_critical_upper:\n",
        "    print(\"Reject the null hypothesis\")\n",
        "else:\n",
        "    print(\"Fail to reject the null hypothesis\")\n"
      ],
      "metadata": {
        "colab": {
          "base_uri": "https://localhost:8080/"
        },
        "id": "-6EZwN7ZsfI-",
        "outputId": "abae8a86-2fe2-4805-8dd9-368e3b6c46c1"
      },
      "execution_count": 3,
      "outputs": [
        {
          "output_type": "stream",
          "name": "stdout",
          "text": [
            "F statistic: 1.25\n",
            "p-value: 0.6583902808707023\n",
            "Critical values of F: 0.3305268601412525 2.6457907352338195\n",
            "Fail to reject the null hypothesis\n"
          ]
        }
      ]
    },
    {
      "cell_type": "markdown",
      "source": [
        "##Q8. The following data represent the waiting times in minutes at two different restaurants on a Saturday night: Restaurant A: 24, 25, 28, 23, 22, 20, 27; Restaurant B: 31, 33, 35, 30, 32, 36. Conduct an F-test at the 5% significance level to determine if the variances are significantly different.\n",
        "\n",
        "###We will conduct an F-test to determine if the variances of the waiting times at the two restaurants are significantly different. \n",
        "* The null hypothesis is that the variances are equal, and\n",
        "*  the alternative hypothesis is that the variances are not equal.\n",
        "\n",
        "###First, we calculate the sample variances for each restaurant:\n",
        "\n",
        "    Restaurant A: s1^2 = ((24-25.71)^2 + (25-25.71)^2 + ... + (27-25.71)^2) / 6 = 7.61\n",
        "    Restaurant B: s2^2 = ((31-32.83)^2 + (33-32.83)^2 + ... + (36-32.83)^2) / 5 = 5.5\n",
        "###Next, we calculate the F-statistic:\n",
        "\n",
        "    F = s1^2 / s2^2 = 7.61 / 5.5 = 1.38\n",
        "\n",
        "###The degrees of freedom for the numerator and denominator are 6-1 = 5 and 5-1 = 4, respectively.\n",
        "\n",
        "###Using a significance level of 0.05, the critical values for an F-distribution with (5,4) degrees of freedom are 0.063 and 5.987.\n",
        "\n",
        "###Since the calculated F value of 1.38 is between the critical values of 0.063 and 5.987, we fail to reject the null hypothesis.\n",
        "\n",
        "###Therefore, we do not have sufficient evidence to conclude that the variances of the waiting times at the two restaurants are significantly different at the 5% level of significance.\n",
        "\n",
        "##Here is the Python code to perform the F-test:"
      ],
      "metadata": {
        "id": "SM12OTBOwXuT"
      }
    },
    {
      "cell_type": "code",
      "source": [
        "import numpy as np\n",
        "import scipy.stats as stats\n",
        "\n",
        "# Define the waiting times at the two restaurants\n",
        "A = np.array([24, 25, 28, 23, 22, 20, 27])\n",
        "B = np.array([31, 33, 35, 30, 32, 36])\n",
        "\n",
        "# Calculate the sample variances\n",
        "s1_squared = np.var(A, ddof=1)\n",
        "s2_squared = np.var(B, ddof=1)\n",
        "\n",
        "# Calculate the F statistic\n",
        "F = s1_squared / s2_squared\n",
        "\n",
        "# Calculate the p-value\n",
        "p_value = stats.f.cdf(F, len(A)-1, len(B)-1)\n",
        "\n",
        "# Calculate the critical values of F\n",
        "alpha = 0.05\n",
        "f_critical_lower = stats.f.ppf(alpha/2, len(A)-1, len(B)-1)\n",
        "f_critical_upper = stats.f.ppf(1-alpha/2, len(A)-1, len(B)-1)\n",
        "\n",
        "# Print the results\n",
        "print(\"F statistic:\", F)\n",
        "print(\"p-value:\", p_value)\n",
        "print(\"Critical values of F:\", f_critical_lower, f_critical_upper)\n",
        "\n",
        "if F < f_critical_lower or F > f_critical_upper:\n",
        "    print(\"Reject the null hypothesis\")\n",
        "else:\n",
        "    print(\"Fail to reject the null hypothesis\")\n"
      ],
      "metadata": {
        "colab": {
          "base_uri": "https://localhost:8080/"
        },
        "id": "-EY08GA7v-a5",
        "outputId": "c71a78d4-2515-4055-b691-95b63886b203"
      },
      "execution_count": 4,
      "outputs": [
        {
          "output_type": "stream",
          "name": "stdout",
          "text": [
            "F statistic: 1.4551907719609583\n",
            "p-value: 0.6512592126031258\n",
            "Critical values of F: 0.16701279718024772 6.977701858535566\n",
            "Fail to reject the null hypothesis\n"
          ]
        }
      ]
    },
    {
      "cell_type": "markdown",
      "source": [
        "##Q9. The following data represent the test scores of two groups of students: Group A: 80, 85, 90, 92, 87, 83; Group B: 75, 78, 82, 79, 81, 84. Conduct an F-test at the 1% significance level to determine if the variances are significantly different.\n",
        "\n",
        "\n",
        "###We will conduct an F-test to determine if the variances of the test scores of the two groups of students are significantly different. \n",
        "* The null hypothesis is that the variances are equal, and \n",
        "* the alternative hypothesis is that the variances are not equal.\n",
        "\n",
        "###First, we calculate the sample variances for each group:\n",
        "\n",
        "    Group A: s1^2 = ((80-87.83)^2 + (85-87.83)^2 + ... + (83-87.83)^2) / 5 = 23.2\n",
        "    Group B: s2^2 = ((75-80.83)^2 + (78-80.83)^2 + ... + (84-80.83)^2) / 5 = 12.8\n",
        "###Next, we calculate the F-statistic:\n",
        "\n",
        "    F = s1^2 / s2^2 = 23.2 / 12.8 = 1.8125\n",
        "\n",
        "    The degrees of freedom for the numerator and denominator are 5-1 = 4 and 5-1 = 4, respectively.\n",
        "\n",
        "###Using a significance level of 0.01, the critical values for an F-distribution with (4,4) degrees of freedom are 0.049 and 6.944.\n",
        "\n",
        "###Since the calculated F value of 1.8125 is between the critical values of 0.049 and 6.944, we fail to reject the null hypothesis.\n",
        "\n",
        "###Therefore, we do not have sufficient evidence to conclude that the variances of the test scores of the two groups of students are significantly different at the 1% level of significance.\n",
        "\n",
        "##Here is the Python code to perform the F-test:"
      ],
      "metadata": {
        "id": "vgGRompOxREo"
      }
    },
    {
      "cell_type": "code",
      "source": [
        "import numpy as np\n",
        "import scipy.stats as stats\n",
        "\n",
        "# Define the test scores of the two groups of students\n",
        "A = np.array([80, 85, 90, 92, 87, 83])\n",
        "B = np.array([75, 78, 82, 79, 81, 84])\n",
        "\n",
        "# Calculate the sample variances\n",
        "s1_squared = np.var(A, ddof=1)\n",
        "s2_squared = np.var(B, ddof=1)\n",
        "\n",
        "# Calculate the F statistic\n",
        "F = s1_squared / s2_squared\n",
        "\n",
        "# Calculate the p-value\n",
        "p_value = stats.f.cdf(F, len(A)-1, len(B)-1)\n",
        "\n",
        "# Calculate the critical values of F\n",
        "alpha = 0.01\n",
        "f_critical_lower = stats.f.ppf(alpha/2, len(A)-1, len(B)-1)\n",
        "f_critical_upper = stats.f.ppf(1-alpha/2, len(A)-1, len(B)-1)\n",
        "\n",
        "# Print the results\n",
        "print(\"F statistic:\", F)\n",
        "print(\"p-value:\", p_value)\n",
        "print(\"Critical values of F:\", f_critical_lower, f_critical_upper)\n",
        "\n",
        "if F < f_critical_lower or F > f_critical_upper:\n",
        "    print(\"Reject the null hypothesis\")\n",
        "else:\n",
        "    print(\"Fail to reject the null hypothesis\")\n"
      ],
      "metadata": {
        "colab": {
          "base_uri": "https://localhost:8080/"
        },
        "id": "60wbk05YxMrZ",
        "outputId": "8ff2e103-96b0-40f3-ac86-e75030c8f3d1"
      },
      "execution_count": 6,
      "outputs": [
        {
          "output_type": "stream",
          "name": "stdout",
          "text": [
            "F statistic: 1.9442622950819677\n",
            "p-value: 0.7584478225464656\n",
            "Critical values of F: 0.066936171954696 14.939605459912224\n",
            "Fail to reject the null hypothesis\n"
          ]
        }
      ]
    },
    {
      "cell_type": "code",
      "source": [],
      "metadata": {
        "id": "XZmbT7O2yAcO"
      },
      "execution_count": null,
      "outputs": []
    }
  ]
}